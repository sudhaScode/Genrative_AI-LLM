{
 "cells": [
  {
   "cell_type": "code",
   "execution_count": 23,
   "id": "70f1d603-bccd-411b-9322-86f8b49d0065",
   "metadata": {},
   "outputs": [
    {
     "data": {
      "text/plain": [
       "'a is rock, b is scissor. a won'"
      ]
     },
     "execution_count": 23,
     "metadata": {},
     "output_type": "execute_result"
    }
   ],
   "source": [
    "import random;\n",
    "def result():\n",
    "    return random.randint(0,2)\n",
    "def game():\n",
    "    a= result();\n",
    "    b= result();\n",
    "    if a==b:\n",
    "        return \"Tie\"\n",
    "    elif a ==0 and b== 1:\n",
    "        return \"a is rock, b is scissor. a won\"\n",
    "    elif a ==1 and b== 2:\n",
    "        return \"a is scissor, b is paper. a won\"\n",
    "    elif a ==2 and b== 0:\n",
    "        return \"a is paper, b is rock. a won\"\n",
    "    elif a ==1 and b== 0:\n",
    "        return \"a is scissor, b is rock. b won\"\n",
    "    elif a ==2 and b== 1:\n",
    "        return \"b is scissor, a is paper. b won\"\n",
    "    elif a ==0 and b== 2:\n",
    "        return \"b is paper, a is rock. b won\"\n",
    "    else:\n",
    "        return \"END\"\n",
    "game()"
   ]
  },
  {
   "cell_type": "code",
   "execution_count": null,
   "id": "6fb8d26b-b7eb-4ca8-8651-ea271de0ae5b",
   "metadata": {},
   "outputs": [],
   "source": []
  },
  {
   "cell_type": "code",
   "execution_count": null,
   "id": "d38e49d4-93ee-4aca-a22a-fef1cacfab11",
   "metadata": {},
   "outputs": [],
   "source": []
  },
  {
   "cell_type": "code",
   "execution_count": null,
   "id": "986b4abc-b1f2-4355-a9a8-bfe0d1d0e396",
   "metadata": {},
   "outputs": [],
   "source": []
  }
 ],
 "metadata": {
  "kernelspec": {
   "display_name": "Python 3 (ipykernel)",
   "language": "python",
   "name": "python3"
  },
  "language_info": {
   "codemirror_mode": {
    "name": "ipython",
    "version": 3
   },
   "file_extension": ".py",
   "mimetype": "text/x-python",
   "name": "python",
   "nbconvert_exporter": "python",
   "pygments_lexer": "ipython3",
   "version": "3.11.5"
  }
 },
 "nbformat": 4,
 "nbformat_minor": 5
}

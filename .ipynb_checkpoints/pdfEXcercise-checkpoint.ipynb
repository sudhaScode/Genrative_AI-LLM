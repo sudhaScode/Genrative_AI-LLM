{
 "cells": [
  {
   "cell_type": "code",
   "execution_count": 2,
   "id": "4d216aaa-bdb0-4c26-8d34-13dc385c987c",
   "metadata": {
    "tags": []
   },
   "outputs": [
    {
     "name": "stdout",
     "output_type": "stream",
     "text": [
      "Requirement already satisfied: langchain==0.1.0 in c:\\users\\subommas\\appdata\\local\\anaconda3\\envs\\playground\\lib\\site-packages (0.1.0)\n",
      "Requirement already satisfied: PyYAML>=5.3 in c:\\users\\subommas\\appdata\\local\\anaconda3\\envs\\playground\\lib\\site-packages (from langchain==0.1.0) (6.0.1)\n",
      "Requirement already satisfied: SQLAlchemy<3,>=1.4 in c:\\users\\subommas\\appdata\\local\\anaconda3\\envs\\playground\\lib\\site-packages (from langchain==0.1.0) (2.0.25)\n",
      "Requirement already satisfied: aiohttp<4.0.0,>=3.8.3 in c:\\users\\subommas\\appdata\\local\\anaconda3\\envs\\playground\\lib\\site-packages (from langchain==0.1.0) (3.9.1)\n",
      "Requirement already satisfied: dataclasses-json<0.7,>=0.5.7 in c:\\users\\subommas\\appdata\\local\\anaconda3\\envs\\playground\\lib\\site-packages (from langchain==0.1.0) (0.6.3)\n",
      "Requirement already satisfied: jsonpatch<2.0,>=1.33 in c:\\users\\subommas\\appdata\\local\\anaconda3\\envs\\playground\\lib\\site-packages (from langchain==0.1.0) (1.33)\n",
      "Requirement already satisfied: langchain-community<0.1,>=0.0.9 in c:\\users\\subommas\\appdata\\local\\anaconda3\\envs\\playground\\lib\\site-packages (from langchain==0.1.0) (0.0.13)\n",
      "Requirement already satisfied: langchain-core<0.2,>=0.1.7 in c:\\users\\subommas\\appdata\\local\\anaconda3\\envs\\playground\\lib\\site-packages (from langchain==0.1.0) (0.1.12)\n",
      "Requirement already satisfied: langsmith<0.1.0,>=0.0.77 in c:\\users\\subommas\\appdata\\local\\anaconda3\\envs\\playground\\lib\\site-packages (from langchain==0.1.0) (0.0.82)\n",
      "Requirement already satisfied: numpy<2,>=1 in c:\\users\\subommas\\appdata\\local\\anaconda3\\envs\\playground\\lib\\site-packages (from langchain==0.1.0) (1.26.3)\n",
      "Requirement already satisfied: pydantic<3,>=1 in c:\\users\\subommas\\appdata\\local\\anaconda3\\envs\\playground\\lib\\site-packages (from langchain==0.1.0) (2.5.3)\n",
      "Requirement already satisfied: requests<3,>=2 in c:\\users\\subommas\\appdata\\local\\anaconda3\\envs\\playground\\lib\\site-packages (from langchain==0.1.0) (2.31.0)\n",
      "Requirement already satisfied: tenacity<9.0.0,>=8.1.0 in c:\\users\\subommas\\appdata\\local\\anaconda3\\envs\\playground\\lib\\site-packages (from langchain==0.1.0) (8.2.3)\n",
      "Requirement already satisfied: attrs>=17.3.0 in c:\\users\\subommas\\appdata\\local\\anaconda3\\envs\\playground\\lib\\site-packages (from aiohttp<4.0.0,>=3.8.3->langchain==0.1.0) (23.2.0)\n",
      "Requirement already satisfied: multidict<7.0,>=4.5 in c:\\users\\subommas\\appdata\\local\\anaconda3\\envs\\playground\\lib\\site-packages (from aiohttp<4.0.0,>=3.8.3->langchain==0.1.0) (6.0.4)\n",
      "Requirement already satisfied: yarl<2.0,>=1.0 in c:\\users\\subommas\\appdata\\local\\anaconda3\\envs\\playground\\lib\\site-packages (from aiohttp<4.0.0,>=3.8.3->langchain==0.1.0) (1.9.4)\n",
      "Requirement already satisfied: frozenlist>=1.1.1 in c:\\users\\subommas\\appdata\\local\\anaconda3\\envs\\playground\\lib\\site-packages (from aiohttp<4.0.0,>=3.8.3->langchain==0.1.0) (1.4.1)\n",
      "Requirement already satisfied: aiosignal>=1.1.2 in c:\\users\\subommas\\appdata\\local\\anaconda3\\envs\\playground\\lib\\site-packages (from aiohttp<4.0.0,>=3.8.3->langchain==0.1.0) (1.3.1)\n",
      "Requirement already satisfied: marshmallow<4.0.0,>=3.18.0 in c:\\users\\subommas\\appdata\\local\\anaconda3\\envs\\playground\\lib\\site-packages (from dataclasses-json<0.7,>=0.5.7->langchain==0.1.0) (3.20.2)\n",
      "Requirement already satisfied: typing-inspect<1,>=0.4.0 in c:\\users\\subommas\\appdata\\local\\anaconda3\\envs\\playground\\lib\\site-packages (from dataclasses-json<0.7,>=0.5.7->langchain==0.1.0) (0.9.0)\n",
      "Requirement already satisfied: jsonpointer>=1.9 in c:\\users\\subommas\\appdata\\local\\anaconda3\\envs\\playground\\lib\\site-packages (from jsonpatch<2.0,>=1.33->langchain==0.1.0) (2.4)\n",
      "Requirement already satisfied: anyio<5,>=3 in c:\\users\\subommas\\appdata\\local\\anaconda3\\envs\\playground\\lib\\site-packages (from langchain-core<0.2,>=0.1.7->langchain==0.1.0) (4.2.0)\n",
      "Requirement already satisfied: packaging<24.0,>=23.2 in c:\\users\\subommas\\appdata\\local\\anaconda3\\envs\\playground\\lib\\site-packages (from langchain-core<0.2,>=0.1.7->langchain==0.1.0) (23.2)\n",
      "Requirement already satisfied: annotated-types>=0.4.0 in c:\\users\\subommas\\appdata\\local\\anaconda3\\envs\\playground\\lib\\site-packages (from pydantic<3,>=1->langchain==0.1.0) (0.6.0)\n",
      "Requirement already satisfied: pydantic-core==2.14.6 in c:\\users\\subommas\\appdata\\local\\anaconda3\\envs\\playground\\lib\\site-packages (from pydantic<3,>=1->langchain==0.1.0) (2.14.6)\n",
      "Requirement already satisfied: typing-extensions>=4.6.1 in c:\\users\\subommas\\appdata\\local\\anaconda3\\envs\\playground\\lib\\site-packages (from pydantic<3,>=1->langchain==0.1.0) (4.9.0)\n",
      "Requirement already satisfied: charset-normalizer<4,>=2 in c:\\users\\subommas\\appdata\\local\\anaconda3\\envs\\playground\\lib\\site-packages (from requests<3,>=2->langchain==0.1.0) (3.3.2)\n",
      "Requirement already satisfied: idna<4,>=2.5 in c:\\users\\subommas\\appdata\\local\\anaconda3\\envs\\playground\\lib\\site-packages (from requests<3,>=2->langchain==0.1.0) (3.6)\n",
      "Requirement already satisfied: urllib3<3,>=1.21.1 in c:\\users\\subommas\\appdata\\local\\anaconda3\\envs\\playground\\lib\\site-packages (from requests<3,>=2->langchain==0.1.0) (2.1.0)\n",
      "Requirement already satisfied: certifi>=2017.4.17 in c:\\users\\subommas\\appdata\\local\\anaconda3\\envs\\playground\\lib\\site-packages (from requests<3,>=2->langchain==0.1.0) (2023.11.17)\n",
      "Requirement already satisfied: greenlet!=0.4.17 in c:\\users\\subommas\\appdata\\local\\anaconda3\\envs\\playground\\lib\\site-packages (from SQLAlchemy<3,>=1.4->langchain==0.1.0) (3.0.3)\n",
      "Requirement already satisfied: sniffio>=1.1 in c:\\users\\subommas\\appdata\\local\\anaconda3\\envs\\playground\\lib\\site-packages (from anyio<5,>=3->langchain-core<0.2,>=0.1.7->langchain==0.1.0) (1.3.0)\n",
      "Requirement already satisfied: mypy-extensions>=0.3.0 in c:\\users\\subommas\\appdata\\local\\anaconda3\\envs\\playground\\lib\\site-packages (from typing-inspect<1,>=0.4.0->dataclasses-json<0.7,>=0.5.7->langchain==0.1.0) (1.0.0)\n"
     ]
    }
   ],
   "source": [
    "!pip install langchain==0.1.0\n"
   ]
  },
  {
   "cell_type": "code",
   "execution_count": 3,
   "id": "8e250da9-8c27-4745-99ba-4e5076be3f8a",
   "metadata": {
    "tags": []
   },
   "outputs": [
    {
     "name": "stdout",
     "output_type": "stream",
     "text": [
      "Name: langchain\n",
      "Version: 0.1.0\n",
      "Summary: Building applications with LLMs through composability\n",
      "Home-page: https://github.com/langchain-ai/langchain\n",
      "Author: \n",
      "Author-email: \n",
      "License: MIT\n",
      "Location: C:\\Users\\SUBOMMAS\\AppData\\Local\\anaconda3\\envs\\playground\\Lib\\site-packages\n",
      "Requires: aiohttp, dataclasses-json, jsonpatch, langchain-community, langchain-core, langsmith, numpy, pydantic, PyYAML, requests, SQLAlchemy, tenacity\n",
      "Required-by: \n"
     ]
    }
   ],
   "source": [
    "!pip show langchain"
   ]
  },
  {
   "cell_type": "code",
   "execution_count": 4,
   "id": "4b3f44a2-b863-4567-84ad-4bd4d9d39184",
   "metadata": {
    "tags": []
   },
   "outputs": [
    {
     "name": "stdout",
     "output_type": "stream",
     "text": [
      "Requirement already satisfied: openai in c:\\users\\subommas\\appdata\\local\\anaconda3\\envs\\playground\\lib\\site-packages (1.8.0)\n",
      "Requirement already satisfied: anyio<5,>=3.5.0 in c:\\users\\subommas\\appdata\\local\\anaconda3\\envs\\playground\\lib\\site-packages (from openai) (4.2.0)\n",
      "Requirement already satisfied: distro<2,>=1.7.0 in c:\\users\\subommas\\appdata\\local\\anaconda3\\envs\\playground\\lib\\site-packages (from openai) (1.9.0)\n",
      "Requirement already satisfied: httpx<1,>=0.23.0 in c:\\users\\subommas\\appdata\\local\\anaconda3\\envs\\playground\\lib\\site-packages (from openai) (0.26.0)\n",
      "Requirement already satisfied: pydantic<3,>=1.9.0 in c:\\users\\subommas\\appdata\\local\\anaconda3\\envs\\playground\\lib\\site-packages (from openai) (2.5.3)\n",
      "Requirement already satisfied: sniffio in c:\\users\\subommas\\appdata\\local\\anaconda3\\envs\\playground\\lib\\site-packages (from openai) (1.3.0)\n",
      "Requirement already satisfied: tqdm>4 in c:\\users\\subommas\\appdata\\local\\anaconda3\\envs\\playground\\lib\\site-packages (from openai) (4.66.1)\n",
      "Requirement already satisfied: typing-extensions<5,>=4.7 in c:\\users\\subommas\\appdata\\local\\anaconda3\\envs\\playground\\lib\\site-packages (from openai) (4.9.0)\n",
      "Requirement already satisfied: idna>=2.8 in c:\\users\\subommas\\appdata\\local\\anaconda3\\envs\\playground\\lib\\site-packages (from anyio<5,>=3.5.0->openai) (3.6)\n",
      "Requirement already satisfied: certifi in c:\\users\\subommas\\appdata\\local\\anaconda3\\envs\\playground\\lib\\site-packages (from httpx<1,>=0.23.0->openai) (2023.11.17)\n",
      "Requirement already satisfied: httpcore==1.* in c:\\users\\subommas\\appdata\\local\\anaconda3\\envs\\playground\\lib\\site-packages (from httpx<1,>=0.23.0->openai) (1.0.2)\n",
      "Requirement already satisfied: h11<0.15,>=0.13 in c:\\users\\subommas\\appdata\\local\\anaconda3\\envs\\playground\\lib\\site-packages (from httpcore==1.*->httpx<1,>=0.23.0->openai) (0.14.0)\n",
      "Requirement already satisfied: annotated-types>=0.4.0 in c:\\users\\subommas\\appdata\\local\\anaconda3\\envs\\playground\\lib\\site-packages (from pydantic<3,>=1.9.0->openai) (0.6.0)\n",
      "Requirement already satisfied: pydantic-core==2.14.6 in c:\\users\\subommas\\appdata\\local\\anaconda3\\envs\\playground\\lib\\site-packages (from pydantic<3,>=1.9.0->openai) (2.14.6)\n",
      "Requirement already satisfied: colorama in c:\\users\\subommas\\appdata\\local\\anaconda3\\envs\\playground\\lib\\site-packages (from tqdm>4->openai) (0.4.6)\n"
     ]
    }
   ],
   "source": [
    "!pip install openai"
   ]
  },
  {
   "cell_type": "code",
   "execution_count": 5,
   "id": "d0ae01b1-88ae-4a4f-bbef-1c3be0fcd168",
   "metadata": {
    "tags": []
   },
   "outputs": [
    {
     "name": "stdout",
     "output_type": "stream",
     "text": [
      "Requirement already satisfied: pyPDF2 in c:\\users\\subommas\\appdata\\local\\anaconda3\\envs\\playground\\lib\\site-packages (3.0.1)\n"
     ]
    }
   ],
   "source": [
    "!pip install pyPDF2"
   ]
  },
  {
   "cell_type": "code",
   "execution_count": 6,
   "id": "23a2f342-1dba-41b1-bbe3-5176d6901ce8",
   "metadata": {
    "tags": []
   },
   "outputs": [
    {
     "name": "stdout",
     "output_type": "stream",
     "text": [
      "Requirement already satisfied: faiss-cpu in c:\\users\\subommas\\appdata\\local\\anaconda3\\envs\\playground\\lib\\site-packages (1.7.4)\n"
     ]
    }
   ],
   "source": [
    "!pip install faiss-cpu"
   ]
  },
  {
   "cell_type": "code",
   "execution_count": 7,
   "id": "8e4ad42e-d388-4855-8bc8-a3dadebaeb73",
   "metadata": {
    "tags": []
   },
   "outputs": [
    {
     "name": "stdout",
     "output_type": "stream",
     "text": [
      "Requirement already satisfied: tiktoken in c:\\users\\subommas\\appdata\\local\\anaconda3\\envs\\playground\\lib\\site-packages (0.5.2)\n",
      "Requirement already satisfied: regex>=2022.1.18 in c:\\users\\subommas\\appdata\\local\\anaconda3\\envs\\playground\\lib\\site-packages (from tiktoken) (2023.12.25)\n",
      "Requirement already satisfied: requests>=2.26.0 in c:\\users\\subommas\\appdata\\local\\anaconda3\\envs\\playground\\lib\\site-packages (from tiktoken) (2.31.0)\n",
      "Requirement already satisfied: charset-normalizer<4,>=2 in c:\\users\\subommas\\appdata\\local\\anaconda3\\envs\\playground\\lib\\site-packages (from requests>=2.26.0->tiktoken) (3.3.2)\n",
      "Requirement already satisfied: idna<4,>=2.5 in c:\\users\\subommas\\appdata\\local\\anaconda3\\envs\\playground\\lib\\site-packages (from requests>=2.26.0->tiktoken) (3.6)\n",
      "Requirement already satisfied: urllib3<3,>=1.21.1 in c:\\users\\subommas\\appdata\\local\\anaconda3\\envs\\playground\\lib\\site-packages (from requests>=2.26.0->tiktoken) (2.1.0)\n",
      "Requirement already satisfied: certifi>=2017.4.17 in c:\\users\\subommas\\appdata\\local\\anaconda3\\envs\\playground\\lib\\site-packages (from requests>=2.26.0->tiktoken) (2023.11.17)\n"
     ]
    }
   ],
   "source": [
    "!pip install tiktoken"
   ]
  },
  {
   "cell_type": "code",
   "execution_count": null,
   "id": "e70913af-3b2f-4216-b88a-4cf3af8a98df",
   "metadata": {},
   "outputs": [],
   "source": []
  }
 ],
 "metadata": {
  "kernelspec": {
   "display_name": "Python 3 (ipykernel)",
   "language": "python",
   "name": "python3"
  },
  "language_info": {
   "codemirror_mode": {
    "name": "ipython",
    "version": 3
   },
   "file_extension": ".py",
   "mimetype": "text/x-python",
   "name": "python",
   "nbconvert_exporter": "python",
   "pygments_lexer": "ipython3",
   "version": "3.11.5"
  }
 },
 "nbformat": 4,
 "nbformat_minor": 5
}

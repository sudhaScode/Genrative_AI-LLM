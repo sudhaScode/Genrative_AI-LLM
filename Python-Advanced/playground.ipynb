{
 "cells": [
  {
   "cell_type": "markdown",
   "id": "70689309",
   "metadata": {},
   "source": [
    "# Object Oriented Programming - Python"
   ]
  },
  {
   "cell_type": "code",
   "execution_count": null,
   "id": "89359242",
   "metadata": {},
   "outputs": [],
   "source": [
    "\"\"\"\n",
    "the meaning oops is acheving real world problems with programming by constrcuting objects to solve the problems.\n",
    "Every Object will have it's own attributes and methods.\n",
    "Using class we can construct a N numbers class to increase availability of objects to solve a problem\n",
    "\n",
    "Polymorhism and inheritance make the objects more reliable and effective.\n",
    "\"\"\""
   ]
  },
  {
   "cell_type": "code",
   "execution_count": 107,
   "id": "20f89cec",
   "metadata": {},
   "outputs": [
    {
     "name": "stdout",
     "output_type": "stream",
     "text": [
      "[{'name': 'Asia', 'numberOfCountries': 48}]\n"
     ]
    }
   ],
   "source": [
    "\n",
    "class world():\n",
    "    #ATTRIBUTES WITH OBJECT INIT\n",
    "    def __init__(self, name):\n",
    "        self.name = name\n",
    "        self.continents = []\n",
    "    \n",
    "    #METHODS ARE BEHAVIOUR OF AN OBJECT\n",
    "    def name_the_continent(self, continent):\n",
    "        self.continents.append(continent)\n",
    "        return self.continents\n",
    "continent = {'name':'Asia', 'numberOfCountries': 48}\n",
    "\n",
    "World = world(\"Earth\")\n",
    "print(World.name_the_continent(continent))"
   ]
  },
  {
   "cell_type": "code",
   "execution_count": 185,
   "id": "bc1da28a",
   "metadata": {},
   "outputs": [
    {
     "name": "stdout",
     "output_type": "stream",
     "text": [
      "object attribute 40\n",
      "object atribute snb\n"
     ]
    }
   ],
   "source": [
    "\"\"\"\n",
    "Pyhton don't have contructor or method overloading as Python allows a class to have only one method/__init__ with a particular name. \n",
    "If you define multiple methods/ constructors(__init__) with the same name, the last one defined will overwrite the previous ones.\n",
    "\"\"\"\n",
    "class over():\n",
    "\n",
    "    #ATTRIBUTES WITH OBJECT INIT\n",
    "    def __init__(self, name = \"name\"):\n",
    "        self.name = name\n",
    "    \n",
    "    # IT WILL OVERWRITES THE ABOVE __INIT__ CALL the output will AttributeError: 'over' object has no attribute 'name'\n",
    "    def __init__(self, age = 20): \n",
    "        self.age = age\n",
    "\n",
    "    #SPECIAL OPERATOR\n",
    "    def __str__(self):\n",
    "        return f\"object atribute {self.age or self.name}\"\n",
    "\n",
    "    # OPERATOR OVERLOADING\n",
    "    def __add__(self): \n",
    "        return f\"object attribute {self.age +10}\"\n",
    "#Over = over(30)\n",
    "#print(Over.age)\n",
    "\n",
    "Over = over(30) # if no arguments paased ->this can't be done either you should have default atribute values in init or pass the arguments to create object\n",
    "print(Over.__add__())\n",
    "\n",
    "OverOne = over(\"snb\")\n",
    "print(OverOne)\n"
   ]
  },
  {
   "cell_type": "markdown",
   "id": "f0b6a9e8",
   "metadata": {},
   "source": [
    "## Inheritance\n",
    "nheritance is a fundamental concept in object-oriented programming (OOP) that allows you to create a new class (subclass) that is a modified version of an existing class (superclass). In real-time applications, inheritance is used to achieve various benefits, such as code reuse, abstraction, and modularity. "
   ]
  },
  {
   "cell_type": "code",
   "execution_count": 133,
   "id": "cb99cc79",
   "metadata": {},
   "outputs": [],
   "source": [
    "#inheritanace\n",
    "class MyFather():\n",
    "\n",
    "    def __init__(self, name, surName):\n",
    "        self.name = name\n",
    "        self.surName = surName\n",
    "    def full_name(self):\n",
    "        return f\"{self.name} {self.surName}\"\n",
    "    \n",
    "    "
   ]
  },
  {
   "cell_type": "code",
   "execution_count": 148,
   "id": "e4231ca5",
   "metadata": {},
   "outputs": [],
   "source": [
    "class me(MyFather):\n",
    "    def _init__ (self, name):\n",
    "        self.name =name\n",
    "    \n",
    "    def full_name(self):\n",
    "        return super().full_name()"
   ]
  },
  {
   "cell_type": "code",
   "execution_count": 149,
   "id": "21ce12d2",
   "metadata": {},
   "outputs": [
    {
     "data": {
      "text/plain": [
       "'snb bommasani'"
      ]
     },
     "execution_count": 149,
     "metadata": {},
     "output_type": "execute_result"
    }
   ],
   "source": [
    "ME = me(\"snb\", \"bommasani\")\n",
    "Father = MyFather(\"ram\", \"bommasani\")\n",
    "ME.full_name()"
   ]
  },
  {
   "cell_type": "code",
   "execution_count": 150,
   "id": "293b8fb3",
   "metadata": {},
   "outputs": [
    {
     "name": "stdout",
     "output_type": "stream",
     "text": [
      "Toyota Camry - 4 doors\n",
      "Harley-Davidson Sportster - with sidecar\n",
      "Trek Mountain Bike - 21 gears\n"
     ]
    }
   ],
   "source": [
    "\"\"\"THe Vehicle object has shared properties with it's child classes\"\"\"\n",
    "class Vehicle:\n",
    "    def __init__(self, brand, model):\n",
    "        self.brand = brand\n",
    "        self.model = model\n",
    "\n",
    "    def display_info(self):\n",
    "        return f\"{self.brand} {self.model}\"\n",
    "\n",
    "class Car(Vehicle):\n",
    "    def __init__(self, brand, model, num_doors):\n",
    "        super().__init__(brand, model)\n",
    "        self.num_doors = num_doors\n",
    "\n",
    "    def display_info(self):\n",
    "        return f\"{super().display_info()} - {self.num_doors} doors\"\n",
    "\n",
    "class Motorcycle(Vehicle):\n",
    "    def __init__(self, brand, model, has_sidecar):\n",
    "        super().__init__(brand, model)\n",
    "        self.has_sidecar = has_sidecar\n",
    "\n",
    "    def display_info(self):\n",
    "        sidecar_info = \"with sidecar\" if self.has_sidecar else \"without sidecar\"\n",
    "        return f\"{super().display_info()} - {sidecar_info}\"\n",
    "\n",
    "class Bicycle(Vehicle):\n",
    "    def __init__(self, brand, model, num_gears):\n",
    "        super().__init__(brand, model)\n",
    "        self.num_gears = num_gears\n",
    "\n",
    "    def display_info(self):\n",
    "        return f\"{super().display_info()} - {self.num_gears} gears\"\n",
    "\n",
    "# Example usage:\n",
    "car = Car(\"Toyota\", \"Camry\", 4)\n",
    "motorcycle = Motorcycle(\"Harley-Davidson\", \"Sportster\", True)\n",
    "bicycle = Bicycle(\"Trek\", \"Mountain Bike\", 21)\n",
    "\n",
    "print(car.display_info())       # Output: Toyota Camry - 4 doors\n",
    "print(motorcycle.display_info())  # Output: Harley-Davidson Sportster - with sidecar\n",
    "print(bicycle.display_info())     # Output: Trek Mountain Bike - 21 gears\n"
   ]
  },
  {
   "cell_type": "markdown",
   "id": "86c63d0c",
   "metadata": {},
   "source": [
    "## Polymorphism\n",
    "Polymorphism allows objects of different types to be treated as objects of a common type. It can be achieved through method overriding."
   ]
  },
  {
   "cell_type": "code",
   "execution_count": 153,
   "id": "16389d1e",
   "metadata": {},
   "outputs": [
    {
     "name": "stdout",
     "output_type": "stream",
     "text": [
      "Woof!\n",
      "Meow!\n"
     ]
    }
   ],
   "source": [
    "class Animal:\n",
    "    def speak(self):\n",
    "        pass\n",
    "\n",
    "class Dog(Animal):\n",
    "    def speak(self):\n",
    "        return \"Woof!\"\n",
    "\n",
    "class Cat(Animal):\n",
    "    def speak(self):\n",
    "        return \"Meow!\"\n",
    "\n",
    "# Usage\n",
    "dog = Dog()\n",
    "cat = Cat()\n",
    "\n",
    "animals = [dog, cat]\n",
    "\n",
    "for animal in animals:\n",
    "    print(animal.speak())\n"
   ]
  },
  {
   "cell_type": "markdown",
   "id": "d790351d",
   "metadata": {},
   "source": [
    "## Abstraction\n",
    "Abstraction is the concept of hiding the complex reality while exposing only the necessary parts. In Python, you can achieve abstraction through abstract classes and methods using the ABC (Abstract Base Class) module."
   ]
  },
  {
   "cell_type": "code",
   "execution_count": 151,
   "id": "a8b982e4",
   "metadata": {},
   "outputs": [
    {
     "name": "stdout",
     "output_type": "stream",
     "text": [
      "78.5\n",
      "24\n"
     ]
    }
   ],
   "source": [
    "from abc import ABC, abstractmethod\n",
    "\n",
    "# Abstract class with abstract method\n",
    "class Shape(ABC):\n",
    "    @abstractmethod\n",
    "    def area(self):\n",
    "        pass\n",
    "\n",
    "# Concrete class implementing the abstract class\n",
    "class Circle(Shape):\n",
    "    def __init__(self, radius):\n",
    "        self.radius = radius\n",
    "\n",
    "    def area(self):\n",
    "        return 3.14 * self.radius * self.radius\n",
    "\n",
    "class Rectangle(Shape):\n",
    "    def __init__(self, length, width):\n",
    "        self.length = length\n",
    "        self.width = width\n",
    "\n",
    "    def area(self):\n",
    "        return self.length * self.width\n",
    "\n",
    "# Usage\n",
    "circle = Circle(5)\n",
    "rectangle = Rectangle(4, 6)\n",
    "\n",
    "print(circle.area())     # Output: 78.5\n",
    "print(rectangle.area())  # Output: 24\n"
   ]
  },
  {
   "cell_type": "markdown",
   "id": "dab05db9",
   "metadata": {},
   "source": [
    "## Encapsulation \n",
    "Encapsulation is the bundling of data and methods that operate on the data into a single unit, i.e., a class. It helps in hiding the implementation details from the outside world."
   ]
  },
  {
   "cell_type": "code",
   "execution_count": 152,
   "id": "971c0782",
   "metadata": {},
   "outputs": [
    {
     "name": "stdout",
     "output_type": "stream",
     "text": [
      "1300\n"
     ]
    }
   ],
   "source": [
    "class BankAccount:\n",
    "    def __init__(self, account_number, balance):\n",
    "        self._account_number = account_number  # Encapsulation using _\n",
    "        self._balance = balance\n",
    "\n",
    "    def deposit(self, amount):\n",
    "        self._balance += amount\n",
    "\n",
    "    def withdraw(self, amount):\n",
    "        if amount <= self._balance:\n",
    "            self._balance -= amount\n",
    "        else:\n",
    "            print(\"Insufficient funds\")\n",
    "\n",
    "    def get_balance(self):\n",
    "        return self._balance\n",
    "\n",
    "# Usage\n",
    "account = BankAccount(\"123456\", 1000)\n",
    "account.deposit(500)\n",
    "account.withdraw(200)\n",
    "print(account.get_balance())  # Output: 1300\n"
   ]
  },
  {
   "cell_type": "markdown",
   "id": "fe624cb4",
   "metadata": {},
   "source": [
    "## FINALLY OOPS"
   ]
  },
  {
   "cell_type": "code",
   "execution_count": 155,
   "id": "1e8ef256",
   "metadata": {},
   "outputs": [
    {
     "name": "stdout",
     "output_type": "stream",
     "text": [
      "Simba says: Roar!\n",
      "Dumbo says: Trumpet!\n"
     ]
    }
   ],
   "source": [
    "from abc import ABC, abstractmethod\n",
    "\n",
    "# Abstraction: Abstract class with abstract method\n",
    "class Animal(ABC):\n",
    "    @abstractmethod\n",
    "    def make_sound(self):\n",
    "        pass\n",
    "\n",
    "# Encapsulation: Each animal has private attributes encapsulated within the class\n",
    "class Lion(Animal):\n",
    "    def __init__(self, name):\n",
    "        self._name = name\n",
    "\n",
    "    def make_sound(self):\n",
    "        return \"Roar!\"\n",
    "\n",
    "class Elephant(Animal):\n",
    "    def __init__(self, name):\n",
    "        self._name = name\n",
    "\n",
    "    def make_sound(self):\n",
    "        return \"Trumpet!\"\n",
    "\n",
    "# Polymorphism: Common interface for different animal types\n",
    "def perform_sound(animal):\n",
    "    return animal.make_sound()\n",
    "\n",
    "\n",
    "# Polymorphic method call method overriding\n",
    "Animal = Lion(\"Simba\")\n",
    "print(f\"{Animal._name} says: {perform_sound(Animal)}\")         # Output: Simba says: Roar!\n",
    "\n",
    "Animal = Elephant(\"Dumbo\")\n",
    "print(f\"{Animal._name} says: {perform_sound(Animal)}\")   # Output: Dumbo says: Trumpet!\n"
   ]
  },
  {
   "cell_type": "markdown",
   "id": "0221e3d3",
   "metadata": {},
   "source": [
    "# Comprehension iterator"
   ]
  },
  {
   "cell_type": "code",
   "execution_count": 132,
   "id": "7cac1893",
   "metadata": {},
   "outputs": [
    {
     "name": "stdout",
     "output_type": "stream",
     "text": [
      "Integers: 3\n",
      "Floats: 3\n",
      "Strings: 0\n"
     ]
    }
   ],
   "source": [
    "my_list = [1.25,2.5,3,4,5,6.5]\n",
    "\n",
    "int_count = sum(1 for val in my_list if isinstance(val, int))\n",
    "float_count = sum(1 for val in my_list if isinstance(val, float))\n",
    "string_count = sum(1 for val in my_list if isinstance(val, str))\n",
    "\n",
    "print(\"Integers:\", int_count)\n",
    "print(\"Floats:\", float_count)\n",
    "print(\"Strings:\", string_count)\n",
    "\n",
    "#int_count, float_count, string_count =[i j k for val in list if isinstance(val, int) i=i+1 elif isinstance(val, float) j =j+1 else k=k+1]"
   ]
  },
  {
   "cell_type": "code",
   "execution_count": null,
   "id": "d679c7a9",
   "metadata": {},
   "outputs": [],
   "source": []
  },
  {
   "cell_type": "markdown",
   "id": "3e4c8ca8",
   "metadata": {},
   "source": [
    "# Working with FIles - File Handling"
   ]
  },
  {
   "cell_type": "code",
   "execution_count": 2,
   "id": "a18d06be-a91d-4e86-b3e9-fb118537c396",
   "metadata": {
    "tags": []
   },
   "outputs": [],
   "source": [
    "import os\n",
    "import shutil\n",
    "import zipfile"
   ]
  },
  {
   "cell_type": "code",
   "execution_count": 3,
   "id": "0d6ba526-b4f1-4a43-9e26-828abae51e93",
   "metadata": {
    "tags": []
   },
   "outputs": [
    {
     "data": {
      "text/plain": [
       "'c:\\\\Users\\\\SUBOMMAS\\\\Python\\\\Python-Advanced'"
      ]
     },
     "execution_count": 3,
     "metadata": {},
     "output_type": "execute_result"
    }
   ],
   "source": [
    "os.getcwd()"
   ]
  },
  {
   "cell_type": "code",
   "execution_count": 5,
   "id": "8b0464a1-a511-46b4-af47-82de72af2fc4",
   "metadata": {},
   "outputs": [],
   "source": [
    "zip_tool = zipfile.ZipFile('unzip_me_for_instructions.zip', 'r')"
   ]
  },
  {
   "cell_type": "code",
   "execution_count": null,
   "id": "078a4c62",
   "metadata": {},
   "outputs": [],
   "source": [
    "# alternative to unzip a file using shutil\n",
    "\"\"\"\n",
    "import shutil\n",
    "shutil.unpack_archive('unzip_me_for_instructions.zip', '','zip')\n",
    "\"\"\""
   ]
  },
  {
   "cell_type": "code",
   "execution_count": 6,
   "id": "b19bbb8e",
   "metadata": {},
   "outputs": [],
   "source": [
    "zip_tool.extractall('instructions')"
   ]
  },
  {
   "cell_type": "code",
   "execution_count": 74,
   "id": "27cea5c6",
   "metadata": {},
   "outputs": [
    {
     "name": "stdout",
     "output_type": "stream",
     "text": [
      "Good work on unzipping the file!\n",
      "You should now see 5 folders, each with a lot of random .txt files.\n",
      "Within one of these text files is a telephone number formated ###-###-#### \n",
      "Use the Python os module and regular expressions to iterate through each file, open it, and search for a telephone number.\n",
      "Good luck!\n"
     ]
    },
    {
     "data": {
      "text/plain": [
       "\"file = open('instructions/extracted_content/Instructions.txt', 'r')\\nfile.read() in this way user must close the file manually, the best practice is when working with files are opening the file \\nin with context, so it ensures clsoing the file even aexception accured\""
      ]
     },
     "execution_count": 74,
     "metadata": {},
     "output_type": "execute_result"
    }
   ],
   "source": [
    "with open('instructions/extracted_content/Instructions.txt', 'r') as file:\n",
    "    content = file.read()\n",
    "    print(content)\n",
    "\"\"\"file = open('instructions/extracted_content/Instructions.txt', 'r')\n",
    "file.read() in this way user must close the file manually, the best practice is when working with files are opening the file \n",
    "in with context, so it ensures clsoing the file even aexception accured\"\"\""
   ]
  },
  {
   "cell_type": "code",
   "execution_count": 7,
   "id": "8756cbea",
   "metadata": {},
   "outputs": [
    {
     "data": {
      "text/plain": [
       "'c:\\\\Users\\\\SUBOMMAS\\\\Python\\\\Python-Advanced'"
      ]
     },
     "execution_count": 7,
     "metadata": {},
     "output_type": "execute_result"
    }
   ],
   "source": [
    "pwd"
   ]
  },
  {
   "cell_type": "code",
   "execution_count": 31,
   "id": "19f85ae4",
   "metadata": {},
   "outputs": [],
   "source": [
    "folder = \"c:\\\\Users\\\\SUBOMMAS\\\\Python\\\\Python-Advanced\\\\instructions\\\\extracted_content\\\\One\\\\HDOHZHFSTTK.txt\""
   ]
  },
  {
   "cell_type": "code",
   "execution_count": null,
   "id": "0028216b",
   "metadata": {},
   "outputs": [],
   "source": [
    "file= open(folder, 'r')\n",
    "file.read()"
   ]
  },
  {
   "cell_type": "code",
   "execution_count": 48,
   "id": "8d77f5d5",
   "metadata": {},
   "outputs": [],
   "source": [
    "folder = \"c:\\\\Users\\\\SUBOMMAS\\\\Python\\\\Python-Advanced\\\\instructions\\\\extracted_content\""
   ]
  },
  {
   "cell_type": "code",
   "execution_count": 63,
   "id": "0f87a178",
   "metadata": {},
   "outputs": [
    {
     "data": {
      "text/plain": [
       "'for sub_folder in folder:\\n    for file in sub_folder:\\n        file = open(sub_folder_file, \\'r\\');\\n        content = file.read();\\n        pattern = r\"\\\\d3-\\\\d4-\\\\d3\"\\n        if(re.search(pattern,content)):\\n            return file_name'"
      ]
     },
     "execution_count": 63,
     "metadata": {},
     "output_type": "execute_result"
    }
   ],
   "source": [
    "'''for sub_folder in folder:\n",
    "    for file in sub_folder:\n",
    "        file = open(sub_folder_file, 'r');\n",
    "        content = file.read();\n",
    "        pattern = r\"\\d3-\\d4-\\d3\"\n",
    "        if(re.search(pattern,content)):\n",
    "            return file_name'''\n",
    "    "
   ]
  },
  {
   "cell_type": "code",
   "execution_count": 81,
   "id": "1fcc78da",
   "metadata": {},
   "outputs": [
    {
     "name": "stdout",
     "output_type": "stream",
     "text": [
      "Matching files:\n",
      "File: c:\\Users\\SUBOMMAS\\Python\\Python-Advanced\\instructions\\extracted_content\\Four\\EMTGPSXQEJX.txt\n",
      "Phone number: ['719-266-2837']\n",
      "run time: 1s\n"
     ]
    }
   ],
   "source": [
    "import time\n",
    "import os\n",
    "import re\n",
    "import math\n",
    "\n",
    "start_time = time.time()\n",
    "\n",
    "def find_matching_phone(pattern, folder):\n",
    "\n",
    "    matching_files = []\n",
    "\n",
    "    for folders, sub_folders, files in os.walk(folder):\n",
    "        for file_name in files:\n",
    "            file_path = os.path.join(folders, file_name)\n",
    "            #print(f\"file_path {folders}\")\n",
    "            with open(file_path,'r') as file:\n",
    "                content = file.read()\n",
    "                matched_numbers = re.findall(pattern, content)\n",
    "\n",
    "                if matched_numbers:\n",
    "                   matching_files.append( \n",
    "                    {\n",
    "                    'file_path': file_path,\n",
    "                    'matched_number': matched_numbers \n",
    "                    }\n",
    "                    )\n",
    "    return matching_files\n",
    "\n",
    "pattern = r\"\\d{3}-\\d{3}-\\d{4}\"\n",
    "matching_files = find_matching_phone(pattern, folder)\n",
    "\n",
    "if matching_files:\n",
    "    print(\"Matching files:\")\n",
    "    for file_pathobj in matching_files:\n",
    "        print(f\"File: {file_pathobj['file_path']}\")\n",
    "        print(f\"Phone number: {file_pathobj['matched_number']}\")\n",
    "else:\n",
    "    print(\"No matching files found.\")\n",
    "\n",
    "\n",
    "end_time =  math.ceil(time.time() - start_time)\n",
    "print(f\"run time: {end_time}s\")"
   ]
  },
  {
   "cell_type": "markdown",
   "id": "6452f9e9",
   "metadata": {},
   "source": [
    "# direct arguments and key based arguments  - *args **kwargs"
   ]
  },
  {
   "cell_type": "code",
   "execution_count": 104,
   "id": "a537ba9d",
   "metadata": {},
   "outputs": [],
   "source": [
    "def work_with_arg(*args, **kwargs):\n",
    "   #print(args[0]+kwargs['key'])\n",
    "   tupleSUM = 0\n",
    "   dictSUM =0\n",
    "   for i in args:\n",
    "    tupleSUM +=i\n",
    "   for key in kwargs:\n",
    "    dictSUM +=kwargs[key]\n",
    "   print(f\"*args sum: {tupleSUM}\")\n",
    "   print(f\"**kwargs sum: {dictSUM}\")\n",
    "   "
   ]
  },
  {
   "cell_type": "code",
   "execution_count": 105,
   "id": "2a2522ee",
   "metadata": {},
   "outputs": [
    {
     "name": "stdout",
     "output_type": "stream",
     "text": [
      "*args sum: 15\n",
      "**kwargs sum: 33\n"
     ]
    }
   ],
   "source": [
    "work_with_arg(1,4,5,5,key=10, key1=11, key2 =12 )"
   ]
  },
  {
   "cell_type": "markdown",
   "id": "76acb0e9",
   "metadata": {},
   "source": []
  },
  {
   "cell_type": "code",
   "execution_count": null,
   "id": "95af5b31",
   "metadata": {},
   "outputs": [],
   "source": []
  },
  {
   "cell_type": "code",
   "execution_count": null,
   "id": "25a3bc06",
   "metadata": {},
   "outputs": [],
   "source": []
  },
  {
   "cell_type": "code",
   "execution_count": null,
   "id": "fc3673b6",
   "metadata": {},
   "outputs": [],
   "source": []
  },
  {
   "cell_type": "code",
   "execution_count": null,
   "id": "31f47027",
   "metadata": {},
   "outputs": [],
   "source": []
  }
 ],
 "metadata": {
  "kernelspec": {
   "display_name": "Python 3.11.5 ('base')",
   "language": "python",
   "name": "python3"
  },
  "language_info": {
   "codemirror_mode": {
    "name": "ipython",
    "version": 3
   },
   "file_extension": ".py",
   "mimetype": "text/x-python",
   "name": "python",
   "nbconvert_exporter": "python",
   "pygments_lexer": "ipython3",
   "version": "3.11.5"
  },
  "vscode": {
   "interpreter": {
    "hash": "b04c6630586d5dc30cfed8313a240d856711aa026d6ff5a9842c65dfbf7687f1"
   }
  }
 },
 "nbformat": 4,
 "nbformat_minor": 5
}
